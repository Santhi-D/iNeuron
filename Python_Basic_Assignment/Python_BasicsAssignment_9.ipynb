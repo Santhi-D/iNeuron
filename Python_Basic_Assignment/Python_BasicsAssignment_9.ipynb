{
 "cells": [
  {
   "cell_type": "markdown",
   "metadata": {},
   "source": [
    "#### 1. To what does a relative path refer?\n",
    "\n",
    "Ans :\n",
    "\n",
    "Relative path is the path related to the current working directly(pwd). It starts at your current directory."
   ]
  },
  {
   "cell_type": "markdown",
   "metadata": {},
   "source": [
    "#### 2. What is the first step on an absolute path?\n",
    "\n",
    "Ans :\n",
    "\n",
    "An absolute path is the path that specify the location of a file or directory from the root directory(/). Absolute path is a complete path from start of actual file system from / directory."
   ]
  },
  {
   "cell_type": "markdown",
   "metadata": {},
   "source": [
    "#### 3. What do the functions os.getcwd() and os.chdir() do?\n",
    "\n",
    "Ans :\n",
    "\n",
    "    - os.getcwd() funtion returns the current working directory.\n",
    "\n",
    "    - os.chdir(path) function Changes the current working directory to the specified path."
   ]
  },
  {
   "cell_type": "markdown",
   "metadata": {},
   "source": [
    "#### 4. What is the difference between the. and.. folders?\n",
    "\n",
    "Ans:\n",
    "\n",
    "(.) represents the current directory.\n",
    "\n",
    "(..) represents the parent directory."
   ]
  },
  {
   "cell_type": "markdown",
   "metadata": {},
   "source": [
    "#### 5. Which part of C:\\bacon\\eggs\\spam.txt , which part is the dir name and which part is the base name?\n",
    "\n",
    "Ans :\n",
    "\n",
    "Here, C:\\bacon\\eggs\\ is the direcoty name and \n",
    "\n",
    "spam.txt is base name."
   ]
  },
  {
   "cell_type": "markdown",
   "metadata": {},
   "source": [
    "#### 6. What are the three “mode” arguments that the open() function accepts?\n",
    "\n",
    "Ans : \n",
    "\n",
    "'r' for file read mode.\n",
    "\n",
    "'w' for file write mode.\n",
    "\n",
    "'a' for file append mode."
   ]
  },
  {
   "cell_type": "markdown",
   "metadata": {},
   "source": [
    "#### 7. What happens if you open existing file in write mode?\n",
    "\n",
    "Ans :\n",
    "\n",
    "\n",
    "If already existing file is opened in write mode, previous content of the file are truncated and new content is overwritten."
   ]
  },
  {
   "cell_type": "markdown",
   "metadata": {},
   "source": [
    "#### 8. How do you tell the difference between read() and readlines()?\n",
    "\n",
    "Ans :\n",
    "\n",
    "\n",
    "The function file read() return the contents of a file as a single string value.\n",
    "\n",
    "The function readlines() method will return all the lines in a file in the format of a list where each element is a line in the file.\n",
    "\n"
   ]
  },
  {
   "cell_type": "markdown",
   "metadata": {},
   "source": [
    "#### 9. How does a shelf value resemble a data structure?\n",
    "\n",
    "Ans :\n",
    "\n",
    "A shelf value resembles a dictionary value; it has keys and values"
   ]
  }
 ],
 "metadata": {
  "kernelspec": {
   "display_name": "Python 3",
   "language": "python",
   "name": "python3"
  },
  "language_info": {
   "codemirror_mode": {
    "name": "ipython",
    "version": 3
   },
   "file_extension": ".py",
   "mimetype": "text/x-python",
   "name": "python",
   "nbconvert_exporter": "python",
   "pygments_lexer": "ipython3",
   "version": "3.6.5"
  }
 },
 "nbformat": 4,
 "nbformat_minor": 2
}
