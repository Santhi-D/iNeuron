{
 "cells": [
  {
   "cell_type": "code",
   "execution_count": 3,
   "metadata": {},
   "outputs": [],
   "source": [
    "## Python Basics Assignment - 3"
   ]
  },
  {
   "cell_type": "markdown",
   "metadata": {},
   "source": [
    "### 1.. What are the benefits of including roles in the programmes?\n",
    "\n",
    "Ans :\n",
    "        -  Avoid repetition of codes.\n",
    "        -  Increases program readability and modularity\n",
    "        -  Divide a complex problem into simpler ones.\n",
    "        -  Reduces chances of error.\n",
    "        -  Modifying a program becomes easier by using function.\n"
   ]
  },
  {
   "cell_type": "markdown",
   "metadata": {},
   "source": [
    "### 2. When does the code in a function execute: when the function is defined or when the function is called?\n",
    "        \n",
    " Ans :        \n",
    "            The code in a function executes when the function is called, not when the function is defined.\n"
   ]
  },
  {
   "cell_type": "markdown",
   "metadata": {},
   "source": [
    "### 3. What statement creates a function?\n",
    "Ans : \n",
    "    \n",
    "    The def functionName() creates a function\n"
   ]
  },
  {
   "cell_type": "markdown",
   "metadata": {},
   "source": [
    "### 4. What is the distinction between a function and a call to a function?\n",
    " Ans :\n",
    " \n",
    "    A function : is a block of code that does a particular operation and returns a result. It usually accepts inputs as \n",
    "    parameters and returns a result. The parameters are not mandatory. \n",
    "    \n",
    "    A Function call : is the code used to pass control to a function\n"
   ]
  },
  {
   "cell_type": "markdown",
   "metadata": {},
   "source": [
    "### 5. How many global scopes are there in a Python program? How many local scopes?\n",
    "\n",
    "Ans :\n",
    " - There is only one global scope. Variables in this scope are accessible to all the code.\n",
    "\n",
    " - There can be any number of local scopes. Local scope is limited to that particular function. Variables in this scope are accessible locally only.\n"
   ]
  },
  {
   "cell_type": "markdown",
   "metadata": {},
   "source": [
    "### 6. What happens to variables in a local scope when the function call returns?\n",
    "Ans :\n",
    "\n",
    "When a function returns, the local scope is destroyed, and all the variables in it are forgotten. we will not be able to access the out side the function\n"
   ]
  },
  {
   "cell_type": "markdown",
   "metadata": {},
   "source": [
    "### 7. What is the concept of a return value? Is it possible to have a return value in an expression?\n",
    "Ans :\n",
    "\n",
    "A return value is the value that a function call evaluates to. A return value can be used as part of an expression, Like any value\n"
   ]
  },
  {
   "cell_type": "markdown",
   "metadata": {},
   "source": [
    "### 8. If a function does not have a return statement, what is the return value of a call to that function?\n",
    "Ans :\n",
    "\n",
    "If there is no return statement for a function, its return value is None\n"
   ]
  },
  {
   "cell_type": "markdown",
   "metadata": {},
   "source": [
    "### 9. How do you make a function variable refer to the global variable?\n",
    "\n",
    "Ans:\n",
    "\n",
    "Global statement allow us to not only access the global variable but also modify them from inside the function.\n"
   ]
  },
  {
   "cell_type": "markdown",
   "metadata": {},
   "source": [
    "### 10. What is the data type of None?\n",
    "Ans :\n",
    "\n",
    "The data type of none is NoneType\n"
   ]
  },
  {
   "cell_type": "markdown",
   "metadata": {},
   "source": [
    "### 11. What does the sentence import areallyourpetsnamederic do?\n",
    "Ans :\n",
    "\n",
    "This import sentence imports a module named “areallyourpetsnamederic” if the module is defined.\n",
    "\n",
    "if areallyourpetsnamederic ia not a python module. Importing this module will throughs ModuleNotFoundError exception\n"
   ]
  },
  {
   "cell_type": "code",
   "execution_count": 1,
   "metadata": {},
   "outputs": [
    {
     "ename": "ModuleNotFoundError",
     "evalue": "No module named 'areallyourpetsnamederic'",
     "output_type": "error",
     "traceback": [
      "\u001b[1;31m---------------------------------------------------------------------------\u001b[0m",
      "\u001b[1;31mModuleNotFoundError\u001b[0m                       Traceback (most recent call last)",
      "\u001b[1;32m<ipython-input-1-b1ea9cb2228f>\u001b[0m in \u001b[0;36m<module>\u001b[1;34m\u001b[0m\n\u001b[1;32m----> 1\u001b[1;33m \u001b[1;32mimport\u001b[0m \u001b[0mareallyourpetsnamederic\u001b[0m\u001b[1;33m\u001b[0m\u001b[0m\n\u001b[0m",
      "\u001b[1;31mModuleNotFoundError\u001b[0m: No module named 'areallyourpetsnamederic'"
     ]
    }
   ],
   "source": [
    "import areallyourpetsnamederic"
   ]
  },
  {
   "cell_type": "markdown",
   "metadata": {},
   "source": [
    "### 12. If you had a bacon() feature in a spam module, what would you call it after importing spam?\n",
    "Ans :\n",
    "\n",
    "This function can be called with spam.bacon(). like below\n",
    "        \n",
    "        import spam\n",
    "        spam.bacon()\n"
   ]
  },
  {
   "cell_type": "markdown",
   "metadata": {},
   "source": [
    "### 13. What can you do to save a programme from crashing if it encounters an error?\n",
    "Ans :\n",
    "\n",
    "we can write lines of code in try block. This will not crash the programme. And in except block we can catch the \n",
    "    exception\n"
   ]
  },
  {
   "cell_type": "markdown",
   "metadata": {},
   "source": [
    "### 14. What is the purpose of the try clause? What is the purpose of the except clause?\n",
    "Ans :\n",
    "\n",
    "    -Try : The code that could potentially cause an error goes in the try clause.\n",
    "    -except : The code that executes if an error happens goes in the except clause, like print statments about exceptions,\n",
    "    loggin statements."
   ]
  },
  {
   "cell_type": "code",
   "execution_count": null,
   "metadata": {},
   "outputs": [],
   "source": []
  }
 ],
 "metadata": {
  "kernelspec": {
   "display_name": "Python 3",
   "language": "python",
   "name": "python3"
  },
  "language_info": {
   "codemirror_mode": {
    "name": "ipython",
    "version": 3
   },
   "file_extension": ".py",
   "mimetype": "text/x-python",
   "name": "python",
   "nbconvert_exporter": "python",
   "pygments_lexer": "ipython3",
   "version": "3.6.5"
  }
 },
 "nbformat": 4,
 "nbformat_minor": 4
}
