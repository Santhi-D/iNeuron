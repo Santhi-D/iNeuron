{
 "cells": [
  {
   "cell_type": "markdown",
   "metadata": {},
   "source": [
    "## PythonAssignment_10"
   ]
  },
  {
   "cell_type": "markdown",
   "metadata": {},
   "source": [
    "### 1. How do you distinguish between shutil.copy() and shutil.copytree()?\n",
    "    shutil.copy : Copies a single file\n",
    "    shutil.copytree() : will copy an entire folder and every folder and file contained in it\n",
    "    \n"
   ]
  },
  {
   "cell_type": "markdown",
   "metadata": {},
   "source": [
    "### 2. What function is used to rename files??\n",
    "    Answer:\n",
    "    The rename() function in os module is used to rename files.\n",
    "    import os\n",
    "    os.rename(\"text.txt\",\"testnew.txt\")\n"
   ]
  },
  {
   "cell_type": "markdown",
   "metadata": {},
   "source": [
    "### 3. What is the difference between the delete functions in the send2trash and shutil modules?\n",
    "    import shutil\n",
    "    shutil.rmtree():\n",
    "    The shutil module’s rmtree() function can be used to delete files or folders. But, this function delete the files\n",
    "    permanently. \n",
    "    The operations cannot be undone if there were any accidental deletions performed \n",
    "        \n",
    "    import send2trash\n",
    "    send2trash.send2trash() : Using send2trash, we can send files to the Trash or Recycle Bin instead of permanently \n",
    "    deleting them.\n",
    "    If the directory contains files or other folders, those are also deleted. A TrashPermissionError exception is raised, \n",
    "    in case a file could not be deleted due to permission error or any other unexpected reason."
   ]
  },
  {
   "cell_type": "code",
   "execution_count": null,
   "metadata": {},
   "outputs": [],
   "source": [
    "import shutil\n",
    "import send2trash\n",
    "shutil.rmtree(\"path\")\n",
    "send2trash.send2trash(\"path\")\n"
   ]
  },
  {
   "cell_type": "markdown",
   "metadata": {},
   "source": [
    "### 4. ZipFile objects have a close() method just like File objects’ close() method. What ZipFile method is equivalent to File objects’ open() method?\n",
    "    from zipfile import Zipfile\n",
    "    with ZipFile(file_name, 'r') as zip: -> this code will open specified zipfile for us. we can use zip objext to preform oother operation the ziplife. like zip.read()"
   ]
  },
  {
   "cell_type": "code",
   "execution_count": null,
   "metadata": {},
   "outputs": [],
   "source": [
    "from zipfile import Zipfile\n",
    "with ZipFile(file_name, 'r') as zip"
   ]
  },
  {
   "cell_type": "markdown",
   "metadata": {},
   "source": [
    "### 5. Create a programme that searches a folder tree for files with a certain file extension (such as .pdf or .jpg). Copy these files from whatever location they are in to a new folder."
   ]
  },
  {
   "cell_type": "code",
   "execution_count": 7,
   "metadata": {},
   "outputs": [
    {
     "name": "stdout",
     "output_type": "stream",
     "text": [
      "Looking in C:\\Shanti\\New folder for files with extensions of .mp4, .pdf, .JPG\n",
      "Coping C:\\Shanti\\New folder\\IMG_4160.JPG to C:\\Shanti\\dest\n",
      "Coping C:\\Shanti\\New folder\\IMG_4161.JPG to C:\\Shanti\\dest\n",
      "Coping C:\\Shanti\\New folder\\IMG_4162.JPG to C:\\Shanti\\dest\n",
      "Coping C:\\Shanti\\New folder\\IMG_4163.JPG to C:\\Shanti\\dest\n",
      "Coping C:\\Shanti\\New folder\\IMG_4167.JPG to C:\\Shanti\\dest\n",
      "Coping C:\\Shanti\\New folder\\IMG_4177.JPG to C:\\Shanti\\dest\n",
      "Coping C:\\Shanti\\New folder\\IMG_4179.JPG to C:\\Shanti\\dest\n",
      "Coping C:\\Shanti\\New folder\\IMG_4190.JPG to C:\\Shanti\\dest\n",
      "Coping C:\\Shanti\\New folder\\IMG_4212.JPG to C:\\Shanti\\dest\n",
      "Coping C:\\Shanti\\New folder\\IMG_4213.JPG to C:\\Shanti\\dest\n",
      "Coping C:\\Shanti\\New folder\\IMG_4214.JPG to C:\\Shanti\\dest\n",
      "Coping C:\\Shanti\\New folder\\IMG_4215.JPG to C:\\Shanti\\dest\n",
      "Coping C:\\Shanti\\New folder\\IMG_4216.JPG to C:\\Shanti\\dest\n",
      "Coping C:\\Shanti\\New folder\\IMG_4218.JPG to C:\\Shanti\\dest\n",
      "Coping C:\\Shanti\\New folder\\IMG_4220.JPG to C:\\Shanti\\dest\n",
      "Coping C:\\Shanti\\New folder\\IMG_4221.JPG to C:\\Shanti\\dest\n",
      "Coping C:\\Shanti\\New folder\\IMG_4222.JPG to C:\\Shanti\\dest\n",
      "Coping C:\\Shanti\\New folder\\IMG_4223.JPG to C:\\Shanti\\dest\n",
      "Coping C:\\Shanti\\New folder\\IMG_4236.JPG to C:\\Shanti\\dest\n",
      "Coping C:\\Shanti\\New folder\\IMG_4249.JPG to C:\\Shanti\\dest\n",
      "Coping C:\\Shanti\\New folder\\IMG_4256.JPG to C:\\Shanti\\dest\n",
      "Coping C:\\Shanti\\New folder\\IMG_4347.JPG to C:\\Shanti\\dest\n",
      "Coping C:\\Shanti\\New folder\\IMG_4351.JPG to C:\\Shanti\\dest\n",
      "Coping C:\\Shanti\\New folder\\IMG_4352.JPG to C:\\Shanti\\dest\n",
      "Coping C:\\Shanti\\New folder\\IMG_4354.JPG to C:\\Shanti\\dest\n",
      "Coping C:\\Shanti\\New folder\\Santhi.JPG to C:\\Shanti\\dest\n"
     ]
    }
   ],
   "source": [
    "# Write a program that walks through a folder tree \n",
    "# and searches for files with a certain file extension (such as .pdf or .jpg).\n",
    "# Copy these files from whatever location they are in to a new folder.\n",
    "\n",
    "import os, shutil\n",
    "\n",
    "def CopyFiles(source, extensions, destFolder):\n",
    "    folder = os.path.abspath(source)\n",
    "    destFolder = os.path.abspath(destFolder)\n",
    "    print('Looking in', source, 'for files with extensions of', ', '.join(extensions))\n",
    "    for foldername, subfolders, filenames in os.walk(source):\n",
    "        for filename in filenames:\n",
    "            name, extension = os.path.splitext(filename)\n",
    "            if extension in extensions:\n",
    "                fileAbsPath = foldername + os.path.sep + filename\n",
    "                print('Coping', fileAbsPath, 'to', destFolder)\n",
    "                shutil.copy(fileAbsPath, destFolder)\n",
    "\n",
    "extensions = ['.mp4', '.pdf','.JPG']\n",
    "source = \"C:\\\\Shanti\\\\New folder\"\n",
    "destFolder = \"C:\\\\Shanti\\\\dest\"\n",
    "CopyFiles(source, extensions, destFolder)"
   ]
  }
 ],
 "metadata": {
  "kernelspec": {
   "display_name": "Python 3",
   "language": "python",
   "name": "python3"
  },
  "language_info": {
   "codemirror_mode": {
    "name": "ipython",
    "version": 3
   },
   "file_extension": ".py",
   "mimetype": "text/x-python",
   "name": "python",
   "nbconvert_exporter": "python",
   "pygments_lexer": "ipython3",
   "version": "3.6.5"
  }
 },
 "nbformat": 4,
 "nbformat_minor": 4
}
