{
 "cells": [
  {
   "cell_type": "markdown",
   "metadata": {},
   "source": [
    "1. What are the differences between operators and values in the following?\n",
    "*\n",
    "'hello'\n",
    "-87.8\n",
    "-\n",
    "/\n",
    "+\n",
    "6\n",
    "\n",
    "Ans :  \n",
    "Operators are  \n",
    "* \n",
    "- \n",
    "/\n",
    "+\n",
    "\n",
    "Values are \n",
    "'hello'\n",
    "-87.8 \n",
    "6"
   ]
  },
  {
   "cell_type": "markdown",
   "metadata": {},
   "source": [
    "2. What is the difference between string and variable?\n",
    "spam\n",
    "'spam'\n",
    "\n",
    "Ans:\n",
    "Variable : A name given to the memory location where the values is stored in the memory - avariables are containers \n",
    "           for storing data value, a python variable can take any values, like, int, float or string. \n",
    "           Example A = 100\n",
    "                   B = 20.5\n",
    "                   name = 'Santhi'\n",
    "\n",
    "String : Represents a text value enclosed with in two double quotes or two single quotes. \n",
    "    Example \"Santhi\", \"iNeuron\"\n",
    "    \n",
    "spam is a variable\n",
    "'spam' is a string"
   ]
  },
  {
   "cell_type": "markdown",
   "metadata": {},
   "source": [
    "3. Describe three different data forms.\n",
    "\n",
    "Ans : \n",
    "Three data types in python\n",
    "- int - A positive or negative whole number without a decimal point. example  x = 100\n",
    "- floating point numbers - A positive or negative whole number with a decimal point. y = 100.5\n",
    "- string - any text with in two single or double quotes. name = 'Santhi'"
   ]
  },
  {
   "cell_type": "code",
   "execution_count": 4,
   "metadata": {},
   "outputs": [
    {
     "name": "stdout",
     "output_type": "stream",
     "text": [
      "x =100 ----> <class 'int'>\n",
      "y = 10.5 --->: <class 'float'>\n",
      "z = 'Santhi' ---> <class 'str'>\n"
     ]
    }
   ],
   "source": [
    "x = 10\n",
    "print(\"x =100 ---->\" ,type(x))\n",
    "\n",
    "y = 10.5\n",
    "print(\"y = 10.5 --->:\",type(y))\n",
    "\n",
    "z = 'Santhi'\n",
    "print(\"z = 'Santhi' --->\" , type(z))"
   ]
  },
  {
   "cell_type": "markdown",
   "metadata": {},
   "source": [
    "4. What makes up an expression? What are the functions of all expressions?\n",
    "\n",
    "Ans :\n",
    "Expression : An Expression is a combination of variables and operators. There expressions perform operation of variable based on the operators and evaluates the values to a single variable."
   ]
  },
  {
   "cell_type": "code",
   "execution_count": 5,
   "metadata": {},
   "outputs": [
    {
     "name": "stdout",
     "output_type": "stream",
     "text": [
      "z = 10 + 20\n",
      "z = 30\n"
     ]
    }
   ],
   "source": [
    "# variables \n",
    "x = 10\n",
    "y = 20\n",
    "\n",
    "# The expression - sum\n",
    "z = x + y\n",
    "    \n",
    "# Evalues and store the value in z\n",
    "print('z = {} + {}'.format(x,y))\n",
    "print('z =',z)"
   ]
  },
  {
   "cell_type": "markdown",
   "metadata": {},
   "source": [
    "5. In this chapter, assignment statements such as spam = 10 were added. What's the difference between a declaration and an expression?\n",
    "\n",
    "Ans : \n",
    "- The assignemnt statemets assign a value to the variable.\n",
    "- The expressions evalues the value to a variable.\n",
    "- in spam = 10 , value 10 in assigned to spam, and now spam will have value 10.\n",
    "- But in expression z = x + y, the value of x depends on the value of x and y."
   ]
  },
  {
   "cell_type": "markdown",
   "metadata": {},
   "source": [
    "6. After running the following code, what does the variable bacon contain?\n",
    "bacon = 22\n",
    "bacon + 1\n",
    "\n",
    "Ans :\n",
    "\n",
    "becon will still have value 22.\n",
    "\n",
    "The becon is assinged with 22, but becon + 1 is not reassigned to becon again like, becon= becon + 1. So the value of becon is not changed"
   ]
  },
  {
   "cell_type": "code",
   "execution_count": 9,
   "metadata": {},
   "outputs": [
    {
     "name": "stdout",
     "output_type": "stream",
     "text": [
      "bacon =   22\n",
      "23\n",
      "c = bacon + 1 --->  23\n",
      "bacon =  22\n"
     ]
    }
   ],
   "source": [
    "bacon = 22\n",
    "print(\"bacon =  \", bacon)\n",
    "print(bacon+1)\n",
    "c = bacon + 1\n",
    "print('c = bacon + 1 ---> ',c)\n",
    "print('bacon = ',bacon)"
   ]
  },
  {
   "cell_type": "markdown",
   "metadata": {},
   "source": [
    "7. What should the values of the following two terms be?\n",
    "\n",
    "'spam' + 'spamspam'\n",
    "'spam' * 3\n",
    "\n",
    "Ans : \n",
    " Both outputs 'spamspamspam'\n"
   ]
  },
  {
   "cell_type": "code",
   "execution_count": 12,
   "metadata": {},
   "outputs": [
    {
     "name": "stdout",
     "output_type": "stream",
     "text": [
      "'spam' + 'spamspam' --->  spamspamspam\n",
      "'spam' * 3 --->  spamspamspam\n"
     ]
    }
   ],
   "source": [
    "print(\"'spam' + 'spamspam' ---> \", 'spam' + 'spamspam')\n",
    "print(\"'spam' * 3 ---> \" , 'spam' * 3)"
   ]
  },
  {
   "cell_type": "markdown",
   "metadata": {},
   "source": [
    "8. Why is it that eggs is a true variable name but 100 is not?\n",
    "\n",
    "Ans : \n",
    "    - Variable name can not starts with numbers.\n",
    "\n",
    "Rules for Python variables:\n",
    "    - A variable name must start with a letter or the underscore character.\n",
    "    - A variable name cannot start with a number.\n",
    "    - A variable name can only contain alpha-numeric characters and underscores (A-z, 0-9, and _ )\n",
    "    -Variable names are case-sensitive (age, Age and AGE are three different variables)\n"
   ]
  },
  {
   "cell_type": "code",
   "execution_count": 13,
   "metadata": {},
   "outputs": [
    {
     "data": {
      "text/plain": [
       "10"
      ]
     },
     "execution_count": 13,
     "metadata": {},
     "output_type": "execute_result"
    }
   ],
   "source": [
    "eggs = 10\n",
    "eggs"
   ]
  },
  {
   "cell_type": "code",
   "execution_count": 14,
   "metadata": {},
   "outputs": [
    {
     "ename": "SyntaxError",
     "evalue": "can't assign to literal (<ipython-input-14-fa75544bfef0>, line 1)",
     "output_type": "error",
     "traceback": [
      "\u001b[1;36m  File \u001b[1;32m\"<ipython-input-14-fa75544bfef0>\"\u001b[1;36m, line \u001b[1;32m1\u001b[0m\n\u001b[1;33m    100 = \"hundred eggs\"\u001b[0m\n\u001b[1;37m                        ^\u001b[0m\n\u001b[1;31mSyntaxError\u001b[0m\u001b[1;31m:\u001b[0m can't assign to literal\n"
     ]
    }
   ],
   "source": [
    "100 = \"hundred eggs\"\n",
    "100"
   ]
  },
  {
   "cell_type": "markdown",
   "metadata": {},
   "source": [
    "9. Which of the following three functions may be used to convert a value to an integer, a floating-point number, or a string?\n",
    "\n",
    "Ans : \n",
    "\n",
    "Below are function used to convert a value to an integer, a floating-point number, or a string\n",
    "- int()\n",
    "- float()\n",
    "- str()  "
   ]
  },
  {
   "cell_type": "code",
   "execution_count": 18,
   "metadata": {},
   "outputs": [
    {
     "name": "stdout",
     "output_type": "stream",
     "text": [
      "a =  10.6\n",
      "10\n",
      "b =  5\n",
      "5.0\n",
      "c =  56\n"
     ]
    },
    {
     "data": {
      "text/plain": [
       "'56'"
      ]
     },
     "execution_count": 18,
     "metadata": {},
     "output_type": "execute_result"
    }
   ],
   "source": [
    " a = 10.6\n",
    "print('a = ', a)\n",
    "print(int(a))\n",
    "\n",
    "b = 5\n",
    "print('b = ', b)\n",
    "print(float(b))\n",
    "\n",
    "c = 56\n",
    "print('c = ', c)\n",
    "str(c)\n"
   ]
  },
  {
   "cell_type": "markdown",
   "metadata": {},
   "source": [
    "10. What is the error caused by this expression? What would you do about it?\n",
    "\n",
    "'I have eaten ' + 99 + ' burritos.'\n",
    "\n",
    "\n",
    "Ans : \n",
    "\n",
    "- This will error out since string concatination with interger values can not be performed.\n",
    "- This can be fixed by converting 99 into string by str(99)\n",
    "\n"
   ]
  },
  {
   "cell_type": "code",
   "execution_count": 19,
   "metadata": {},
   "outputs": [
    {
     "ename": "TypeError",
     "evalue": "must be str, not int",
     "output_type": "error",
     "traceback": [
      "\u001b[1;31m---------------------------------------------------------------------------\u001b[0m",
      "\u001b[1;31mTypeError\u001b[0m                                 Traceback (most recent call last)",
      "\u001b[1;32m<ipython-input-19-d24137131a5c>\u001b[0m in \u001b[0;36m<module>\u001b[1;34m\u001b[0m\n\u001b[1;32m----> 1\u001b[1;33m \u001b[1;34m'I have eaten '\u001b[0m \u001b[1;33m+\u001b[0m \u001b[1;36m99\u001b[0m \u001b[1;33m+\u001b[0m \u001b[1;34m' burritos.'\u001b[0m\u001b[1;33m\u001b[0m\u001b[0m\n\u001b[0m",
      "\u001b[1;31mTypeError\u001b[0m: must be str, not int"
     ]
    }
   ],
   "source": [
    "'I have eaten ' + 99 + ' burritos.'"
   ]
  },
  {
   "cell_type": "code",
   "execution_count": 20,
   "metadata": {},
   "outputs": [
    {
     "data": {
      "text/plain": [
       "'I have eaten 99 burritos.'"
      ]
     },
     "execution_count": 20,
     "metadata": {},
     "output_type": "execute_result"
    }
   ],
   "source": [
    "'I have eaten ' + '99' + ' burritos.'"
   ]
  },
  {
   "cell_type": "code",
   "execution_count": null,
   "metadata": {},
   "outputs": [],
   "source": []
  }
 ],
 "metadata": {
  "kernelspec": {
   "display_name": "Python 3",
   "language": "python",
   "name": "python3"
  },
  "language_info": {
   "codemirror_mode": {
    "name": "ipython",
    "version": 3
   },
   "file_extension": ".py",
   "mimetype": "text/x-python",
   "name": "python",
   "nbconvert_exporter": "python",
   "pygments_lexer": "ipython3",
   "version": "3.6.5"
  }
 },
 "nbformat": 4,
 "nbformat_minor": 2
}
